{
 "cells": [
  {
   "cell_type": "code",
   "execution_count": null,
   "metadata": {},
   "outputs": [],
   "source": [
    "#Loading pandas\n",
    "\n",
    "import pandas as pd\n",
    "\n",
    "#display all columns\n",
    "pd.set_option(\"display.max_columns\", None)\n",
    "\n",
    "#Original code from Python Assignment 2\n",
    "dine_safe_TO = pd.read_csv('/Users/cnblackwell/Desktop/myproject/DSI_building_robust_software/building_software_homework/Dinesafe.csv')\n",
    "dine_safe_TO = dine_safe_TO.rename(columns={'Rec_#':'record_number'})\n",
    "\n",
    "\n"
   ]
  },
  {
   "cell_type": "code",
   "execution_count": null,
   "metadata": {},
   "outputs": [],
   "source": [
    "#Refactored\n",
    "import pandas as pd\n",
    "import pytest\n",
    "\n",
    "dine_safe_TO_url = 'https://ckan0.cf.opendata.inter.prod-toronto.ca/dataset/ea1d6e57-87af-4e23-b722-6c1f5aa18a8d/resource/815aedb5-f9d7-4dcd-a33a-4aa7ac5aac50/download/Dinesafe.csv'\n",
    "\n",
    "\n"
   ]
  },
  {
   "cell_type": "code",
   "execution_count": null,
   "metadata": {},
   "outputs": [],
   "source": [
    "dine_safe_TO.columns #show the CVS file columns\n"
   ]
  },
  {
   "cell_type": "code",
   "execution_count": null,
   "metadata": {},
   "outputs": [],
   "source": [
    "def load_and_rename(dine_safe_TO):\n",
    "    dine_safe_TO = pd.read_csv(dine_safe_TO_url)\n",
    "    if 'Rec #' not in dine_safe_TO.columns:\n",
    "        raise ValueError('Rec # column not found, please try again!')\n",
    "    dine_safe_TO.rename({'Rec #': 'record_number'}, inplace=True)\n",
    "\n",
    "    return dine_safe_TO\n",
    "\n",
    "dine_safe_TO = load_and_rename('refactored_data.csv')"
   ]
  },
  {
   "cell_type": "code",
   "execution_count": 25,
   "metadata": {},
   "outputs": [
    {
     "data": {
      "text/plain": [
       "(78682, 17)"
      ]
     },
     "execution_count": 25,
     "metadata": {},
     "output_type": "execute_result"
    }
   ],
   "source": []
  },
  {
   "cell_type": "code",
   "execution_count": 26,
   "metadata": {},
   "outputs": [
    {
     "data": {
      "text/plain": [
       "pandas.core.frame.DataFrame"
      ]
     },
     "execution_count": 26,
     "metadata": {},
     "output_type": "execute_result"
    }
   ],
   "source": []
  },
  {
   "cell_type": "code",
   "execution_count": null,
   "metadata": {},
   "outputs": [],
   "source": []
  }
 ],
 "metadata": {
  "kernelspec": {
   "display_name": "base",
   "language": "python",
   "name": "python3"
  },
  "language_info": {
   "codemirror_mode": {
    "name": "ipython",
    "version": 3
   },
   "file_extension": ".py",
   "mimetype": "text/x-python",
   "name": "python",
   "nbconvert_exporter": "python",
   "pygments_lexer": "ipython3",
   "version": "3.11.5"
  }
 },
 "nbformat": 4,
 "nbformat_minor": 2
}
